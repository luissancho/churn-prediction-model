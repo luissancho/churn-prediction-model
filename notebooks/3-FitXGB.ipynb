{
 "cells": [
  {
   "cell_type": "code",
   "execution_count": null,
   "metadata": {},
   "outputs": [],
   "source": [
    "%matplotlib inline\n",
    "\n",
    "import warnings\n",
    "warnings.filterwarnings('ignore')\n",
    "\n",
    "import numpy as np\n",
    "import pandas as pd\n",
    "from sklearn.model_selection import train_test_split\n",
    "\n",
    "import sys\n",
    "sys.path.append('..')\n",
    "\n",
    "from lib.XGB import XGB\n",
    "from lib.ChurnEnsemble import ChurnEnsemble\n",
    "from lib.utils import format_number, show_summary\n",
    "\n",
    "SEED = 42\n",
    "np.random.seed(SEED)"
   ]
  },
  {
   "cell_type": "code",
   "execution_count": null,
   "metadata": {},
   "outputs": [],
   "source": [
    "config = dict(\n",
    "    features=[\n",
    "        'employees', 'interval', 'country_es', 'country_mx', 'country_latam', 'gateway_auto',\n",
    "        'plan', 'usage', 'usage_groups', 'usage_payments', 'usage_avg',\n",
    "        'paid_periods', 'months', 'failed_ratio'\n",
    "    ],\n",
    "    params=dict(\n",
    "        n=100,\n",
    "        lr=1e-2,\n",
    "        max_depth=16,\n",
    "        stop=30,\n",
    "        reg_unb=True\n",
    "    )\n",
    ")\n",
    "\n",
    "min_tte = 1  # Minimum time to event for binary classification (positive if `tte` <= `min_tte`)\n",
    "test_size = 0.25  # Percentage of the data to use for test/validation"
   ]
  },
  {
   "cell_type": "code",
   "execution_count": null,
   "metadata": {},
   "outputs": [],
   "source": [
    "data = pd.read_csv('../files/churn-data-fit.csv')\n",
    "\n",
    "for col in ['tp', 'ts', 'te']:\n",
    "    data[col] = pd.to_datetime(data[col])\n",
    "\n",
    "cs = (data.sort_values(['id', 'tfs']).groupby('id')['tte'].last() < 0).value_counts().sort_index().astype(float)\n",
    "print('Total Customers: {} | Censored: {} | Non-censored: {} | Censored Rate {}%'.format(\n",
    "    format_number(cs.sum()),\n",
    "    format_number(cs[1]),\n",
    "    format_number(cs[0]),\n",
    "    format_number(100 * cs[1] / cs.sum(), 2)\n",
    "))\n",
    "\n",
    "data"
   ]
  },
  {
   "cell_type": "code",
   "execution_count": null,
   "metadata": {},
   "outputs": [],
   "source": [
    "d_split = data.sort_values(['id', 'tp']).groupby('id')['tte'].last().reset_index()\n",
    "d_split['censored'] = d_split['tte'] < 0\n",
    "\n",
    "d_train, d_test = train_test_split(\n",
    "    d_split,\n",
    "    test_size=test_size,\n",
    "    shuffle=True,\n",
    "    stratify=d_split['censored'].astype(int),\n",
    "    random_state=SEED\n",
    ")\n",
    "\n",
    "cs_train = d_train['censored'].value_counts().sort_index().astype(float)\n",
    "cs_test = d_test['censored'].value_counts().sort_index().astype(float)\n",
    "\n",
    "print('Total Customers: {} ({}% censored) | Train: {} ({}%) | Test: {} ({}%)'.format(\n",
    "    format_number(len(d_split)),\n",
    "    format_number(100 * cs[1] / cs.sum(), 2),\n",
    "    format_number(len(d_train)),\n",
    "    format_number(100 * cs_train[1] / cs_train.sum(), 2),\n",
    "    format_number(len(d_test)),\n",
    "    format_number(100 * cs_test[1] / cs_test.sum(), 2)\n",
    "))"
   ]
  },
  {
   "cell_type": "code",
   "execution_count": null,
   "metadata": {},
   "outputs": [],
   "source": [
    "# Instantiate the XGBoost model\n",
    "xgb = XGB(\n",
    "    features=config['features'],\n",
    "    min_tte=min_tte,\n",
    "    seed=SEED,\n",
    "    verbose=1,\n",
    "    path='../files/xgb',\n",
    "    **config['params']\n",
    ")\n",
    "\n",
    "xgb.params"
   ]
  },
  {
   "cell_type": "code",
   "execution_count": null,
   "metadata": {},
   "outputs": [],
   "source": [
    "# Select train data\n",
    "d_xgb_train = data[data['id'].isin(d_train['id'])].sort_values(['id', 'tfs'])[\n",
    "    ['id', 'tfs', 'tte'] + xgb.features\n",
    "]\n",
    "\n",
    "# Build train tensor\n",
    "x_xgb_train, y_xgb_train = xgb.build_seq(d_xgb_train)\n",
    "df_xgb_train = xgb.seq_to_df(x_xgb_train, y_xgb_train)\n",
    "\n",
    "show_summary(df_xgb_train, xgb.tgt_col)\n",
    "df_xgb_train"
   ]
  },
  {
   "cell_type": "code",
   "execution_count": null,
   "metadata": {},
   "outputs": [],
   "source": [
    "# Select test data\n",
    "d_xgb_test = data[data['id'].isin(d_test['id'])].sort_values(['id', 'tfs'])[\n",
    "    ['id', 'tfs', 'tte'] + xgb.features\n",
    "]\n",
    "\n",
    "# Build test tensor\n",
    "x_xgb_test, y_xgb_test = xgb.build_seq(d_xgb_test)\n",
    "df_xgb_test = xgb.seq_to_df(x_xgb_test, y_xgb_test)\n",
    "\n",
    "show_summary(df_xgb_train, xgb.tgt_col)\n",
    "df_xgb_test"
   ]
  },
  {
   "cell_type": "code",
   "execution_count": null,
   "metadata": {},
   "outputs": [],
   "source": [
    "# Fit XGBoost model\n",
    "xgb.fit(x_xgb_train, y_xgb_train, x_xgb_test, y_xgb_test)"
   ]
  },
  {
   "cell_type": "code",
   "execution_count": null,
   "metadata": {},
   "outputs": [],
   "source": [
    "# Save model\n",
    "xgb.save()\n",
    "\n",
    "# Plot training history\n",
    "xgb.plot_history_eval()"
   ]
  },
  {
   "cell_type": "code",
   "execution_count": null,
   "metadata": {},
   "outputs": [],
   "source": [
    "# Predict\n",
    "y_xgb_hat = xgb.predict(x_xgb_test)\n",
    "# Set results\n",
    "xgb.set_results(y_xgb_hat, y_xgb_test)\n",
    "\n",
    "# Prediction results\n",
    "xgb.results"
   ]
  },
  {
   "cell_type": "code",
   "execution_count": null,
   "metadata": {},
   "outputs": [],
   "source": [
    "# Get the last sequence prediction for each customer\n",
    "results = (\n",
    "    xgb.results\n",
    "    .sort_values(['id', 'tfs'])\n",
    "    .groupby('id')\n",
    "    .last()\n",
    "    .drop(columns=['tfs'])\n",
    "    .reset_index()\n",
    ")\n",
    "\n",
    "show_summary(results, 'true')\n",
    "results"
   ]
  },
  {
   "cell_type": "code",
   "execution_count": null,
   "metadata": {},
   "outputs": [],
   "source": [
    "# Instantiate Ensemble model in order to compute and plot the scores\n",
    "model = ChurnEnsemble(\n",
    "    min_tte=min_tte,\n",
    "    seed=SEED,\n",
    "    verbose=1,\n",
    "    path='../files'\n",
    ")\n",
    "# Set the XGBoost model\n",
    "model.xgb = xgb\n",
    "\n",
    "model"
   ]
  },
  {
   "cell_type": "code",
   "execution_count": null,
   "metadata": {},
   "outputs": [],
   "source": [
    "# Compute and set scores\n",
    "model.set_scores(results['pred'], results['true'])\n",
    "\n",
    "# Plot scores summary\n",
    "model.plot_scores()"
   ]
  },
  {
   "cell_type": "code",
   "execution_count": null,
   "metadata": {},
   "outputs": [],
   "source": [
    "# Plot the histogram of the predicted probabilities for each customer sequence.\n",
    "model.plot_histogram(xgb.results, loc=-1)"
   ]
  },
  {
   "cell_type": "code",
   "execution_count": null,
   "metadata": {},
   "outputs": [],
   "source": []
  }
 ],
 "metadata": {
  "kernelspec": {
   "display_name": "Python 3",
   "language": "python",
   "name": "python3"
  },
  "language_info": {
   "codemirror_mode": {
    "name": "ipython",
    "version": 3
   },
   "file_extension": ".py",
   "mimetype": "text/x-python",
   "name": "python",
   "nbconvert_exporter": "python",
   "pygments_lexer": "ipython3",
   "version": "3.11.9"
  }
 },
 "nbformat": 4,
 "nbformat_minor": 2
}
